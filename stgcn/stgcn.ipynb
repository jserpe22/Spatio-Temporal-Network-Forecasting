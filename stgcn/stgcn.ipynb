{
 "cells": [
  {
   "cell_type": "code",
   "execution_count": 1,
   "metadata": {},
   "outputs": [
    {
     "name": "stderr",
     "output_type": "stream",
     "text": [
      "c:\\Users\\kedar\\anaconda3\\envs\\torch\\lib\\site-packages\\tqdm\\auto.py:22: TqdmWarning: IProgress not found. Please update jupyter and ipywidgets. See https://ipywidgets.readthedocs.io/en/stable/user_install.html\n",
      "  from .autonotebook import tqdm as notebook_tqdm\n"
     ]
    }
   ],
   "source": [
    "import pandas as pd\n",
    "import numpy as np\n",
    "import os\n",
    "import typing\n",
    "import torch\n",
    "import matplotlib.pyplot as plt\n",
    "from torch_geometric_temporal.dataset import METRLADatasetLoader\n",
    "from torch_geometric_temporal.signal import temporal_signal_split\n",
    "torch.manual_seed(200)"
   ]
  },
  {
   "cell_type": "code",
   "execution_count": 4,
   "metadata": {},
   "outputs": [
    {
     "name": "stdout",
     "output_type": "stream",
     "text": [
      "Data was normalized via Z-Score method with mean = [53.59967    0.4982691] and std = [20.209862    0.28815305]\n"
     ]
    }
   ],
   "source": [
    "loader = METRLADatasetLoader()\n",
    "dataset = loader.get_dataset()\n",
    "train_val_dataset, test_dataset = temporal_signal_split(dataset, train_ratio = 0.8)\n",
    "train_dataset, val_dataset = temporal_signal_split(train_val_dataset, train_ratio = 0.8)\n",
    "z_score_mean = dataset.meanValues\n",
    "z_score_std = dataset.stdValues"
   ]
  },
  {
   "cell_type": "code",
   "execution_count": 10,
   "metadata": {},
   "outputs": [
    {
     "data": {
      "text/plain": [
       "(1722,)"
      ]
     },
     "execution_count": 10,
     "metadata": {},
     "output_type": "execute_result"
    }
   ],
   "source": [
    "dataset.edge_weight.shape"
   ]
  },
  {
   "cell_type": "code",
   "execution_count": 7,
   "metadata": {},
   "outputs": [],
   "source": [
    "num_epochs = 100\n",
    "learning_rate = 0.01\n",
    "batch_size = 64\n",
    "num_nodes = 207\n",
    "num_features = 2\n",
    "num_timesteps = 12\n",
    "num_classes = 1\n",
    "hidden_size = 64"
   ]
  },
  {
   "cell_type": "code",
   "execution_count": 5,
   "metadata": {},
   "outputs": [],
   "source": [
    "from torch import nn\n",
    "from torch_geometric.nn import ChebConv\n",
    "from torch_geometric_temporal.nn import STConv\n",
    "\n",
    "class STGCN(nn.Module):\n",
    "    def __init__(self, ):\n",
    "        super(STGCN, self).__init__()\n",
    "\n",
    "        self.conv1 = STConv(num_nodes, in_channels, )\n",
    "        self.conv2 = STConv()\n",
    "        self.linear = nn.Linear()\n",
    "\n",
    "    def forward(self, x, edge_index, edge_weight):\n",
    "        x = self.conv1(x, edge_index, edge_weight)\n",
    "        x = self.conv2(x)\n",
    "        x = x.reshape(x.shape[0], -1)\n",
    "        x = self.linear(x)\n",
    "        return x"
   ]
  },
  {
   "cell_type": "code",
   "execution_count": 6,
   "metadata": {},
   "outputs": [
    {
     "ename": "ImportError",
     "evalue": "cannot import name 'STGCN' from 'torch_geometric_temporal.nn' (c:\\Users\\kedar\\anaconda3\\envs\\torch\\lib\\site-packages\\torch_geometric_temporal\\nn\\__init__.py)",
     "output_type": "error",
     "traceback": [
      "\u001b[1;31m---------------------------------------------------------------------------\u001b[0m",
      "\u001b[1;31mImportError\u001b[0m                               Traceback (most recent call last)",
      "Cell \u001b[1;32mIn[6], line 1\u001b[0m\n\u001b[1;32m----> 1\u001b[0m \u001b[39mfrom\u001b[39;00m \u001b[39mtorch_geometric_temporal\u001b[39;00m\u001b[39m.\u001b[39;00m\u001b[39mnn\u001b[39;00m \u001b[39mimport\u001b[39;00m STGCN\n",
      "\u001b[1;31mImportError\u001b[0m: cannot import name 'STGCN' from 'torch_geometric_temporal.nn' (c:\\Users\\kedar\\anaconda3\\envs\\torch\\lib\\site-packages\\torch_geometric_temporal\\nn\\__init__.py)"
     ]
    }
   ],
   "source": []
  },
  {
   "cell_type": "code",
   "execution_count": null,
   "metadata": {},
   "outputs": [],
   "source": []
  }
 ],
 "metadata": {
  "kernelspec": {
   "display_name": "torch",
   "language": "python",
   "name": "python3"
  },
  "language_info": {
   "codemirror_mode": {
    "name": "ipython",
    "version": 3
   },
   "file_extension": ".py",
   "mimetype": "text/x-python",
   "name": "python",
   "nbconvert_exporter": "python",
   "pygments_lexer": "ipython3",
   "version": "3.8.16"
  },
  "orig_nbformat": 4
 },
 "nbformat": 4,
 "nbformat_minor": 2
}
